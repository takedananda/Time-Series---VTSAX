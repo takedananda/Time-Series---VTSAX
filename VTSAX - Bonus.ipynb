{
 "cells": [
  {
   "cell_type": "markdown",
   "metadata": {},
   "source": [
    "# Time Series Forecasting of VTSAX Prices - Neural"
   ]
  },
  {
   "cell_type": "markdown",
   "metadata": {},
   "source": [
    "This is the bonus part of my time-series project on analysing VTSAX adjusted closing prices. The analysis of the data has been done in my first part of the project, and the notebook for it can be found within the same folder. This part will be strictly to implement recurrent neural networks to assess feasibility for small datasets.\n",
    "<br>\n",
    "<br>\n",
    "As with the previous part, I will be using the monthly data of VTSAX Adjusted Closing price from Yahoo Finance. I am using the first observation of each month as the price data for that month."
   ]
  },
  {
   "cell_type": "code",
   "execution_count": 397,
   "metadata": {},
   "outputs": [],
   "source": [
    "# Load required libraries\n",
    "import pandas as pd\n",
    "import numpy as np\n",
    "import tensorflow\n",
    "from tensorflow import keras\n",
    "import matplotlib.pyplot as plt"
   ]
  },
  {
   "cell_type": "markdown",
   "metadata": {},
   "source": [
    "# Data Preparation"
   ]
  },
  {
   "cell_type": "code",
   "execution_count": 233,
   "metadata": {},
   "outputs": [],
   "source": [
    "# Importing the dataset\n",
    "dataset = pd.read_csv(r\"C:\\Users\\taked\\Desktop\\DataScience Projects\\Non-Kaggle Datasets\\Time Series Project\\VTSAX_dataset.csv\").drop(\"Unnamed: 0\", axis = 1)"
   ]
  },
  {
   "cell_type": "code",
   "execution_count": 234,
   "metadata": {},
   "outputs": [],
   "source": [
    "# Creating monthly dataset\n",
    "# Drop the Volume column\n",
    "dataset = dataset.drop(\"Volume\", axis = 1)\n",
    "\n",
    "# Convert all but the Date column to be a numerical column and the Date column to be a datetime column.\n",
    "dataset[\"Date\"] = pd.to_datetime(dataset[\"Date\"])\n",
    "numerical_columns = list(dataset.drop(\"Date\", axis = 1).columns)\n",
    "for column in numerical_columns:\n",
    "    dataset[column] = pd.to_numeric(dataset[column])\n",
    "\n",
    "# Partitioning dataset to training and test\n",
    "dataset[\"year\"] = dataset[\"Date\"].dt.year\n",
    "volatile_data = dataset[dataset[\"year\"] == 2020]\n",
    "test_set = dataset[dataset[\"year\"] == 2019]\n",
    "dataset = dataset[dataset[\"year\"] < 2019]\n",
    "\n",
    "# Create a monthly dataset by extracting the first rows of every month for every year from the original dataset\n",
    "dataset[\"month\"] = dataset[\"Date\"].dt.month\n",
    "dataset[\"day\"] = dataset[\"Date\"].dt.day\n",
    "df1 = dataset.set_index('Date')\n",
    "df1.sort_index(inplace=True)\n",
    "\n",
    "monthly_data = df1.groupby(pd.Grouper(freq = 'MS')).nth(0)\n",
    "\n",
    "monthly_data.reset_index(inplace = True)\n"
   ]
  },
  {
   "cell_type": "code",
   "execution_count": 238,
   "metadata": {},
   "outputs": [],
   "source": [
    "# Taking only the relevant columns\n",
    "monthly_data = monthly_data[[\"Date\", \"Adj Close\"]]\n",
    "# Taking out the first row to make the dataset containing 217 inputs, because 218 is a difficult number to divide into batches.\n",
    "adj = monthly_data[\"Adj Close\"][1:]"
   ]
  },
  {
   "cell_type": "code",
   "execution_count": 239,
   "metadata": {},
   "outputs": [],
   "source": [
    "# Creating the y_test. y_test will  be 2019 values, and will be compared with y_pred, which will be the next 12 predictions when the \n",
    "# model predicts next 12 predictions given data from 2000 - 2018\n",
    "\n",
    "test_set[\"month\"] = test_set[\"Date\"].dt.month\n",
    "test_set[\"day\"] = test_set[\"Date\"].dt.day\n",
    "df1 = test_set.set_index('Date')\n",
    "df1.sort_index(inplace=True)\n",
    "\n",
    "monthly_test = df1.groupby(pd.Grouper(freq = 'MS')).nth(0)\n",
    "\n",
    "monthly_test.reset_index(inplace = True)\n",
    "\n",
    "# Converting relevant column as an array\n",
    "y_test = monthly_test[\"Adj Close\"].values\n"
   ]
  },
  {
   "cell_type": "code",
   "execution_count": 250,
   "metadata": {},
   "outputs": [],
   "source": [
    "# Taking out the first row to make the dataset containing 217 inputs, because 218 is a difficult number to divide into batches.\n",
    "adj = monthly_data[\"Adj Close\"][1:]\n",
    "adj = adj.values.reshape(7,31)"
   ]
  },
  {
   "cell_type": "markdown",
   "metadata": {},
   "source": [
    "I chose to partition the 217 observations into 7 batches of 31 observations. For every batch, the first 19 observations will be in the input sets and the last 12 observations will be allocated into the output set. This is because I want to configure the model to predict 12 outputs, which will be the model's predictions of the adjusted closing price for every month of 2019."
   ]
  },
  {
   "cell_type": "code",
   "execution_count": 271,
   "metadata": {},
   "outputs": [],
   "source": [
    "# Partition data into training and validation sets. 2019 data will be used as test set\n",
    "X_train, y_train = adj[:6,:19], adj[:6,-12:]\n",
    "X_val, y_val = adj[-1,:19], adj[-1,-12:]"
   ]
  },
  {
   "cell_type": "markdown",
   "metadata": {},
   "source": [
    "Scaling of numerical data is highly recommended for deep learning models in order to keep the models stable and to optimize efficiently. I will use Scikit-Learn's MinMaxScaler to scale the data."
   ]
  },
  {
   "cell_type": "code",
   "execution_count": null,
   "metadata": {},
   "outputs": [],
   "source": [
    "# Scaling the inputs and outputs \n",
    "from sklearn.preprocessing import MinMaxScaler\n",
    "scale = MinMaxScaler()\n",
    "y_scale = MinMaxScaler()\n",
    "X_train = scale.fit_transform(X_train)\n",
    "y_train = y_scale.fit_transform(y_train)\n",
    "# Transforming validation sets. Adding a new dimension to match dimensions of the training set\n",
    "X_val = scale.transform(X_val[np.newaxis])\n",
    "y_val = y_scale.transform(y_val[np.newaxis])"
   ]
  },
  {
   "cell_type": "markdown",
   "metadata": {},
   "source": [
    "# Implement LSTM for 12 Month Forecasting"
   ]
  },
  {
   "cell_type": "markdown",
   "metadata": {},
   "source": [
    "Long Short-Term Memory is a type of recurrent neural network (RNN) cell that was created as a remedy for RNN's biggest problem, which is its lacking ability to \"remember\" older data. As the RNN is fed more data, the effect of the first inputs to the network on subsequent outputs diminish. For example, the output of the RNN for the third time step uses more information from the input of the first time step than the output for the tenth time step does. Therefore, classic RNNs lacked the ability to process long sequences of information. \n",
    "<br>\n",
    "<br>\n",
    "To tackle this short memory problem, the LSTM cell was formulated. Though many machine learning practitioners across many industries still use LSTM, the cell was proposed almost quarter of a century ago. At every time step after the first, the LSTM cell takes inputs from the input data, the hidden state from the previous time step, and the cell state from the previous time step. The hidden state is the short-term information derived from analyzing current time step data, while the cell state carries the long-term information that is subject to being updated with relevant information at each time step. The network trains four different neural networks, each with a separate function. One network is trained to determine which information should be forgotten, in order to keep only the relevant information to be propagated to future steps. Another network is used to determine the output for that time step by analyzing the current input data with the hidden state from the previous time step. The third network is trained to control which part of the output from the previous network explained should be used to update the cell state. The fourth and last neural netowrk controls which part of the long-term state should be read and outputted as both the output of the cell at the current state, and also as the hidden state for the next time step.\n",
    "<br>\n",
    "<br>\n",
    "The capability of LSTM to process long sequences of data makes it a suitable deep learning model for time series. Let's see how this model performs on a monthly dataset with small sample size."
   ]
  },
  {
   "cell_type": "code",
   "execution_count": 284,
   "metadata": {},
   "outputs": [],
   "source": [
    "# Reshaping X to tensors\n",
    "X_train = X_train.reshape(6, 19, 1)\n",
    "X_val = X_val.reshape(1, 19, 1)"
   ]
  },
  {
   "cell_type": "code",
   "execution_count": 444,
   "metadata": {},
   "outputs": [],
   "source": [
    "# Implement a LSTM Model.\n",
    "\n",
    "model = keras.models.Sequential([\n",
    "    keras.layers.LSTM(20, return_sequences = True, input_shape = (19,1)),\n",
    "    keras.layers.LSTM(20, return_sequences = True),\n",
    "    keras.layers.LSTM(20),\n",
    "    keras.layers.Dense(12)\n",
    "])\n",
    "\n",
    "model.compile(loss=\"mse\", optimizer=\"adam\")\n"
   ]
  },
  {
   "cell_type": "code",
   "execution_count": 445,
   "metadata": {},
   "outputs": [
    {
     "name": "stdout",
     "output_type": "stream",
     "text": [
      "Epoch 1/30\n",
      "1/1 [==============================] - 4s 4s/step - loss: 0.2682 - val_loss: 2.5026\n",
      "Epoch 2/30\n",
      "1/1 [==============================] - 0s 67ms/step - loss: 0.2608 - val_loss: 2.4516\n",
      "Epoch 3/30\n",
      "1/1 [==============================] - 0s 48ms/step - loss: 0.2533 - val_loss: 2.3989\n",
      "Epoch 4/30\n",
      "1/1 [==============================] - 0s 49ms/step - loss: 0.2456 - val_loss: 2.3438\n",
      "Epoch 5/30\n",
      "1/1 [==============================] - 0s 56ms/step - loss: 0.2375 - val_loss: 2.2855\n",
      "Epoch 6/30\n",
      "1/1 [==============================] - 0s 51ms/step - loss: 0.2290 - val_loss: 2.2234\n",
      "Epoch 7/30\n",
      "1/1 [==============================] - 0s 54ms/step - loss: 0.2199 - val_loss: 2.1569\n",
      "Epoch 8/30\n",
      "1/1 [==============================] - 0s 52ms/step - loss: 0.2103 - val_loss: 2.0856\n",
      "Epoch 9/30\n",
      "1/1 [==============================] - 0s 54ms/step - loss: 0.1999 - val_loss: 2.0095\n",
      "Epoch 10/30\n",
      "1/1 [==============================] - 0s 55ms/step - loss: 0.1889 - val_loss: 1.9287\n",
      "Epoch 11/30\n",
      "1/1 [==============================] - 0s 53ms/step - loss: 0.1772 - val_loss: 1.8435\n",
      "Epoch 12/30\n",
      "1/1 [==============================] - 0s 58ms/step - loss: 0.1650 - val_loss: 1.7544\n",
      "Epoch 13/30\n",
      "1/1 [==============================] - 0s 64ms/step - loss: 0.1523 - val_loss: 1.6622\n",
      "Epoch 14/30\n",
      "1/1 [==============================] - 0s 62ms/step - loss: 0.1395 - val_loss: 1.5677\n",
      "Epoch 15/30\n",
      "1/1 [==============================] - 0s 52ms/step - loss: 0.1268 - val_loss: 1.4719\n",
      "Epoch 16/30\n",
      "1/1 [==============================] - 0s 57ms/step - loss: 0.1146 - val_loss: 1.3762\n",
      "Epoch 17/30\n",
      "1/1 [==============================] - 0s 51ms/step - loss: 0.1035 - val_loss: 1.2821\n",
      "Epoch 18/30\n",
      "1/1 [==============================] - 0s 55ms/step - loss: 0.0940 - val_loss: 1.1918\n",
      "Epoch 19/30\n",
      "1/1 [==============================] - 0s 56ms/step - loss: 0.0868 - val_loss: 1.1078\n",
      "Epoch 20/30\n",
      "1/1 [==============================] - 0s 61ms/step - loss: 0.0820 - val_loss: 1.0321\n",
      "Epoch 21/30\n",
      "1/1 [==============================] - 0s 69ms/step - loss: 0.0796 - val_loss: 0.9663\n",
      "Epoch 22/30\n",
      "1/1 [==============================] - 0s 57ms/step - loss: 0.0786 - val_loss: 0.9112\n",
      "Epoch 23/30\n",
      "1/1 [==============================] - 0s 53ms/step - loss: 0.0780 - val_loss: 0.8670\n",
      "Epoch 24/30\n",
      "1/1 [==============================] - 0s 54ms/step - loss: 0.0766 - val_loss: 0.8327\n",
      "Epoch 25/30\n",
      "1/1 [==============================] - 0s 58ms/step - loss: 0.0738 - val_loss: 0.8073\n",
      "Epoch 26/30\n",
      "1/1 [==============================] - 0s 54ms/step - loss: 0.0695 - val_loss: 0.7892\n",
      "Epoch 27/30\n",
      "1/1 [==============================] - 0s 58ms/step - loss: 0.0642 - val_loss: 0.7770\n",
      "Epoch 28/30\n",
      "1/1 [==============================] - 0s 56ms/step - loss: 0.0585 - val_loss: 0.7691\n",
      "Epoch 29/30\n",
      "1/1 [==============================] - 0s 58ms/step - loss: 0.0529 - val_loss: 0.7640\n",
      "Epoch 30/30\n",
      "1/1 [==============================] - 0s 61ms/step - loss: 0.0479 - val_loss: 0.7600\n"
     ]
    }
   ],
   "source": [
    "# Fit the model\n",
    "history = model.fit(X_train, y_train, epochs=30, validation_data=(X_val, y_val))"
   ]
  },
  {
   "cell_type": "code",
   "execution_count": 413,
   "metadata": {},
   "outputs": [
    {
     "data": {
      "image/png": "[encoded data removed]",
      "text/plain": [
       "<Figure size 576x360 with 1 Axes>"
      ]
     },
     "metadata": {
      "needs_background": "light"
     },
     "output_type": "display_data"
    }
   ],
   "source": [
    "# Plot learning curve\n",
    "pd.DataFrame(history.history).plot(figsize = (8,5))\n",
    "plt.grid(True)\n",
    "plt.ylim(0,4.3)\n",
    "plt.show()"
   ]
  },
  {
   "cell_type": "code",
   "execution_count": 421,
   "metadata": {},
   "outputs": [],
   "source": [
    "# Creating predictions using the 2018 data to forecast 2019 data\n",
    "y_pred = model.predict(X_val)"
   ]
  },
  {
   "cell_type": "code",
   "execution_count": 414,
   "metadata": {},
   "outputs": [],
   "source": [
    "# Adding regularization to reduce overfitting\n",
    "model2 = keras.models.Sequential([\n",
    "    keras.layers.LSTM(20, return_sequences = True, input_shape = (19,1), recurrent_regularizer=keras.regularizers.l1_l2(l1=0.01, l2=0.01)),\n",
    "    keras.layers.LSTM(20, return_sequences = True),\n",
    "    keras.layers.LSTM(20),\n",
    "    keras.layers.Dense(12)\n",
    "])\n",
    "\n",
    "model2.compile(loss=\"mse\", optimizer=\"adam\")"
   ]
  },
  {
   "cell_type": "code",
   "execution_count": 415,
   "metadata": {},
   "outputs": [
    {
     "name": "stdout",
     "output_type": "stream",
     "text": [
      "Epoch 1/30\n",
      "1/1 [==============================] - 4s 4s/step - loss: 1.9035 - val_loss: 4.2593\n",
      "Epoch 2/30\n",
      "1/1 [==============================] - 0s 49ms/step - loss: 1.8772 - val_loss: 4.1935\n",
      "Epoch 3/30\n",
      "1/1 [==============================] - 0s 50ms/step - loss: 1.8513 - val_loss: 4.1282\n",
      "Epoch 4/30\n",
      "1/1 [==============================] - 0s 48ms/step - loss: 1.8257 - val_loss: 4.0631\n",
      "Epoch 5/30\n",
      "1/1 [==============================] - 0s 47ms/step - loss: 1.8003 - val_loss: 3.9975\n",
      "Epoch 6/30\n",
      "1/1 [==============================] - 0s 54ms/step - loss: 1.7751 - val_loss: 3.9311\n",
      "Epoch 7/30\n",
      "1/1 [==============================] - 0s 51ms/step - loss: 1.7499 - val_loss: 3.8635\n",
      "Epoch 8/30\n",
      "1/1 [==============================] - 0s 49ms/step - loss: 1.7248 - val_loss: 3.7942\n",
      "Epoch 9/30\n",
      "1/1 [==============================] - 0s 49ms/step - loss: 1.6996 - val_loss: 3.7226\n",
      "Epoch 10/30\n",
      "1/1 [==============================] - 0s 48ms/step - loss: 1.6743 - val_loss: 3.6484\n",
      "Epoch 11/30\n",
      "1/1 [==============================] - 0s 52ms/step - loss: 1.6487 - val_loss: 3.5713\n",
      "Epoch 12/30\n",
      "1/1 [==============================] - 0s 50ms/step - loss: 1.6228 - val_loss: 3.4909\n",
      "Epoch 13/30\n",
      "1/1 [==============================] - 0s 52ms/step - loss: 1.5966 - val_loss: 3.4074\n",
      "Epoch 14/30\n",
      "1/1 [==============================] - 0s 49ms/step - loss: 1.5700 - val_loss: 3.3206\n",
      "Epoch 15/30\n",
      "1/1 [==============================] - 0s 53ms/step - loss: 1.5431 - val_loss: 3.2309\n",
      "Epoch 16/30\n",
      "1/1 [==============================] - 0s 54ms/step - loss: 1.5160 - val_loss: 3.1385\n",
      "Epoch 17/30\n",
      "1/1 [==============================] - 0s 51ms/step - loss: 1.4888 - val_loss: 3.0442\n",
      "Epoch 18/30\n",
      "1/1 [==============================] - 0s 51ms/step - loss: 1.4616 - val_loss: 2.9485\n",
      "Epoch 19/30\n",
      "1/1 [==============================] - 0s 50ms/step - loss: 1.4346 - val_loss: 2.8523\n",
      "Epoch 20/30\n",
      "1/1 [==============================] - 0s 51ms/step - loss: 1.4081 - val_loss: 2.7563\n",
      "Epoch 21/30\n",
      "1/1 [==============================] - 0s 45ms/step - loss: 1.3823 - val_loss: 2.6615\n",
      "Epoch 22/30\n",
      "1/1 [==============================] - 0s 49ms/step - loss: 1.3576 - val_loss: 2.5691\n",
      "Epoch 23/30\n",
      "1/1 [==============================] - 0s 48ms/step - loss: 1.3344 - val_loss: 2.4800\n",
      "Epoch 24/30\n",
      "1/1 [==============================] - 0s 57ms/step - loss: 1.3128 - val_loss: 2.3956\n",
      "Epoch 25/30\n",
      "1/1 [==============================] - 0s 56ms/step - loss: 1.2931 - val_loss: 2.3168\n",
      "Epoch 26/30\n",
      "1/1 [==============================] - 0s 60ms/step - loss: 1.2750 - val_loss: 2.2448\n",
      "Epoch 27/30\n",
      "1/1 [==============================] - 0s 61ms/step - loss: 1.2579 - val_loss: 2.1803\n",
      "Epoch 28/30\n",
      "1/1 [==============================] - 0s 57ms/step - loss: 1.2412 - val_loss: 2.1236\n",
      "Epoch 29/30\n",
      "1/1 [==============================] - 0s 63ms/step - loss: 1.2243 - val_loss: 2.0746\n",
      "Epoch 30/30\n",
      "1/1 [==============================] - 0s 52ms/step - loss: 1.2068 - val_loss: 2.0326\n"
     ]
    }
   ],
   "source": [
    "# Fit the model\n",
    "history = model2.fit(X_train, y_train, epochs=30, validation_data=(X_val, y_val))"
   ]
  },
  {
   "cell_type": "code",
   "execution_count": 416,
   "metadata": {},
   "outputs": [
    {
     "data": {
      "image/png": "[encoded data removed]",
      "text/plain": [
       "<Figure size 576x360 with 1 Axes>"
      ]
     },
     "metadata": {
      "needs_background": "light"
     },
     "output_type": "display_data"
    }
   ],
   "source": [
    "# Plot learning curve for regularized model \n",
    "pd.DataFrame(history.history).plot(figsize = (8,5))\n",
    "plt.grid(True)\n",
    "plt.ylim(0,4.3)\n",
    "plt.show()"
   ]
  },
  {
   "cell_type": "code",
   "execution_count": 425,
   "metadata": {},
   "outputs": [],
   "source": [
    "# Creating predictions using the 2018 data to forecast 2019 data\n",
    "y_pred2 =model2.predict(X_val)"
   ]
  },
  {
   "cell_type": "code",
   "execution_count": 427,
   "metadata": {},
   "outputs": [],
   "source": [
    "# Adding dropout regularization to reduce overfitting\n",
    "model3 = keras.models.Sequential([\n",
    "    keras.layers.LSTM(20, return_sequences = True, input_shape = (19,1)),\n",
    "    keras.layers.Dropout(rate=0.2),\n",
    "    keras.layers.LSTM(20, return_sequences = True),\n",
    "    keras.layers.Dropout(rate=0.2),\n",
    "    keras.layers.LSTM(20),\n",
    "    keras.layers.Dropout(rate=0.2),\n",
    "    keras.layers.Dense(12)\n",
    "])\n",
    "\n",
    "model3.compile(loss=\"mse\", optimizer=\"adam\")"
   ]
  },
  {
   "cell_type": "code",
   "execution_count": 428,
   "metadata": {},
   "outputs": [
    {
     "name": "stdout",
     "output_type": "stream",
     "text": [
      "Epoch 1/30\n",
      "1/1 [==============================] - 4s 4s/step - loss: 0.2808 - val_loss: 2.6286\n",
      "Epoch 2/30\n",
      "1/1 [==============================] - 0s 47ms/step - loss: 0.2738 - val_loss: 2.5988\n",
      "Epoch 3/30\n",
      "1/1 [==============================] - 0s 50ms/step - loss: 0.2762 - val_loss: 2.5705\n",
      "Epoch 4/30\n",
      "1/1 [==============================] - 0s 52ms/step - loss: 0.2661 - val_loss: 2.5415\n",
      "Epoch 5/30\n",
      "1/1 [==============================] - 0s 48ms/step - loss: 0.2692 - val_loss: 2.5127\n",
      "Epoch 6/30\n",
      "1/1 [==============================] - 0s 52ms/step - loss: 0.2596 - val_loss: 2.4822\n",
      "Epoch 7/30\n",
      "1/1 [==============================] - 0s 48ms/step - loss: 0.2552 - val_loss: 2.4504\n",
      "Epoch 8/30\n",
      "1/1 [==============================] - 0s 45ms/step - loss: 0.2502 - val_loss: 2.4169\n",
      "Epoch 9/30\n",
      "1/1 [==============================] - 0s 59ms/step - loss: 0.2508 - val_loss: 2.3825\n",
      "Epoch 10/30\n",
      "1/1 [==============================] - 0s 53ms/step - loss: 0.2357 - val_loss: 2.3457\n",
      "Epoch 11/30\n",
      "1/1 [==============================] - 0s 53ms/step - loss: 0.2376 - val_loss: 2.3068\n",
      "Epoch 12/30\n",
      "1/1 [==============================] - 0s 49ms/step - loss: 0.2234 - val_loss: 2.2653\n",
      "Epoch 13/30\n",
      "1/1 [==============================] - 0s 48ms/step - loss: 0.2200 - val_loss: 2.2213\n",
      "Epoch 14/30\n",
      "1/1 [==============================] - 0s 53ms/step - loss: 0.2131 - val_loss: 2.1750\n",
      "Epoch 15/30\n",
      "1/1 [==============================] - 0s 56ms/step - loss: 0.2115 - val_loss: 2.1269\n",
      "Epoch 16/30\n",
      "1/1 [==============================] - 0s 49ms/step - loss: 0.1943 - val_loss: 2.0769\n",
      "Epoch 17/30\n",
      "1/1 [==============================] - 0s 47ms/step - loss: 0.2162 - val_loss: 2.0267\n",
      "Epoch 18/30\n",
      "1/1 [==============================] - 0s 48ms/step - loss: 0.1833 - val_loss: 1.9763\n",
      "Epoch 19/30\n",
      "1/1 [==============================] - 0s 45ms/step - loss: 0.1779 - val_loss: 1.9256\n",
      "Epoch 20/30\n",
      "1/1 [==============================] - 0s 55ms/step - loss: 0.1692 - val_loss: 1.8752\n",
      "Epoch 21/30\n",
      "1/1 [==============================] - 0s 50ms/step - loss: 0.1697 - val_loss: 1.8274\n",
      "Epoch 22/30\n",
      "1/1 [==============================] - 0s 53ms/step - loss: 0.1758 - val_loss: 1.7827\n",
      "Epoch 23/30\n",
      "1/1 [==============================] - 0s 51ms/step - loss: 0.1705 - val_loss: 1.7406\n",
      "Epoch 24/30\n",
      "1/1 [==============================] - 0s 54ms/step - loss: 0.1599 - val_loss: 1.7011\n",
      "Epoch 25/30\n",
      "1/1 [==============================] - 0s 57ms/step - loss: 0.1445 - val_loss: 1.6642\n",
      "Epoch 26/30\n",
      "1/1 [==============================] - 0s 51ms/step - loss: 0.1421 - val_loss: 1.6313\n",
      "Epoch 27/30\n",
      "1/1 [==============================] - 0s 58ms/step - loss: 0.1226 - val_loss: 1.5989\n",
      "Epoch 28/30\n",
      "1/1 [==============================] - 0s 56ms/step - loss: 0.1473 - val_loss: 1.5707\n",
      "Epoch 29/30\n",
      "1/1 [==============================] - 0s 49ms/step - loss: 0.1323 - val_loss: 1.5432\n",
      "Epoch 30/30\n",
      "1/1 [==============================] - 0s 55ms/step - loss: 0.1357 - val_loss: 1.5200\n"
     ]
    }
   ],
   "source": [
    "# Fit the model\n",
    "history = model3.fit(X_train, y_train, epochs=30, validation_data=(X_val, y_val))"
   ]
  },
  {
   "cell_type": "code",
   "execution_count": 432,
   "metadata": {},
   "outputs": [
    {
     "data": {
      "image/png": "[encoded data removed]",
      "text/plain": [
       "<Figure size 576x360 with 1 Axes>"
      ]
     },
     "metadata": {
      "needs_background": "light"
     },
     "output_type": "display_data"
    }
   ],
   "source": [
    "# Plot learning curve for dropout regularized model \n",
    "pd.DataFrame(history.history).plot(figsize = (8,5))\n",
    "plt.grid(True)\n",
    "plt.ylim(0,4.3)\n",
    "plt.show()"
   ]
  },
  {
   "cell_type": "code",
   "execution_count": 430,
   "metadata": {},
   "outputs": [],
   "source": [
    "# Creating predictions using the 2018 data to forecast 2019 data\n",
    "y_pred3 =model3.predict(X_val)"
   ]
  },
  {
   "cell_type": "markdown",
   "metadata": {},
   "source": [
    "# Evaluating model performance"
   ]
  },
  {
   "cell_type": "markdown",
   "metadata": {},
   "source": [
    "The models predicted the adjusted closing prices of VTSAX for 2019 by using 2018 data and predicting the price for the next 12 months. So far, we have three models that have made their predictions. Now, we will unscale the predictions back to dollars, and compute the MAPE for each prediction."
   ]
  },
  {
   "cell_type": "code",
   "execution_count": 437,
   "metadata": {},
   "outputs": [],
   "source": [
    "# Reverse the scaling for the predictions\n",
    "y_pred_actual = y_scale.inverse_transform(y_pred)\n",
    "y_pred2_actual = y_scale.inverse_transform(y_pred2)\n",
    "y_pred3_actual = y_scale.inverse_transform(y_pred3)\n"
   ]
  },
  {
   "cell_type": "code",
   "execution_count": 515,
   "metadata": {},
   "outputs": [],
   "source": [
    "# Using df1 from earlier cell to recreate monthly test set.\n",
    "monthly_test = df1.groupby(pd.Grouper(freq = 'MS')).nth(0)\n",
    "\n",
    "# Using a clone function to create a dataset to append predictions to for visualization\n",
    "monthly_clone = pd.DataFrame.copy(monthly_test)\n",
    "\n",
    "# Preprocessing of data for visualization\n",
    "full_monthly_test = monthly_test[[\"Adj Close\"]]\n",
    "\n",
    "new_full = monthly_data.set_index(\"Date\")\n",
    "new_full = new_full[[\"Adj Close\"]]\n",
    "\n",
    "# Creating a master dataframe used for visualization\n",
    "full_data = pd.concat([new_full,full_monthly_test], axis = 0)"
   ]
  },
  {
   "cell_type": "code",
   "execution_count": 525,
   "metadata": {},
   "outputs": [],
   "source": [
    "# Adding predictions to the monthly test data\n",
    "monthly_clone[\"Predictions\"] = y_pred_actual.reshape(12)"
   ]
  },
  {
   "cell_type": "code",
   "execution_count": 531,
   "metadata": {},
   "outputs": [
    {
     "data": {
      "image/png": "[encoded data removed]",
      "text/plain": [
       "<Figure size 432x288 with 1 Axes>"
      ]
     },
     "metadata": {
      "needs_background": "light"
     },
     "output_type": "display_data"
    }
   ],
   "source": [
    "# Plotting predictions for first model\n",
    "plt.plot(full_data[\"Adj Close\"][150:], label='observed')\n",
    "plt.plot(monthly_clone[\"Predictions\"], label = \"predicted, unregularized model\")\n",
    "plt.title(\"Predictions of LSTM Without Regularization vs Actual Values\")\n",
    "plt.legend(loc = \"best\")\n",
    "plt.show()"
   ]
  },
  {
   "cell_type": "code",
   "execution_count": 532,
   "metadata": {},
   "outputs": [
    {
     "data": {
      "image/png": "[encoded data removed]",
      "text/plain": [
       "<Figure size 432x288 with 1 Axes>"
      ]
     },
     "metadata": {
      "needs_background": "light"
     },
     "output_type": "display_data"
    }
   ],
   "source": [
    "# Adding predictions from the second model to the monthly test data\n",
    "monthly_clone[\"Predictions\"] = y_pred2_actual.reshape(12)\n",
    "\n",
    "# Plotting predictions for second model\n",
    "plt.plot(full_data[\"Adj Close\"][150:], label='observed')\n",
    "plt.plot(monthly_clone[\"Predictions\"], label = \"predicted, regularized model\")\n",
    "plt.title(\"Predictions of LSTM With Regularization vs Actual Values\")\n",
    "plt.legend(loc = \"best\")\n",
    "plt.show()"
   ]
  },
  {
   "cell_type": "code",
   "execution_count": 533,
   "metadata": {},
   "outputs": [
    {
     "data": {
      "image/png": "[encoded data removed]",
      "text/plain": [
       "<Figure size 432x288 with 1 Axes>"
      ]
     },
     "metadata": {
      "needs_background": "light"
     },
     "output_type": "display_data"
    }
   ],
   "source": [
    "# Adding predictions from the third model to the monthly test data\n",
    "monthly_clone[\"Predictions\"] = y_pred3_actual.reshape(12)\n",
    "\n",
    "# Plotting predictions for second model\n",
    "plt.plot(full_data[\"Adj Close\"][150:], label='observed')\n",
    "plt.plot(monthly_clone[\"Predictions\"], label = \"predicted, regularized model\")\n",
    "plt.title(\"Predictions of LSTM With Dropout vs Actual Values\")\n",
    "plt.legend(loc = \"best\")\n",
    "plt.show()"
   ]
  },
  {
   "cell_type": "markdown",
   "metadata": {},
   "source": [
    "As you can see, the prediction accuracies are abysmal."
   ]
  },
  {
   "cell_type": "code",
   "execution_count": 438,
   "metadata": {},
   "outputs": [],
   "source": [
    "def get_mape(preds, actual):\n",
    "    perc_error = 100*(preds - actual)/actual\n",
    "    mape = np.mean(np.abs(perc_error))\n",
    "    return mape"
   ]
  },
  {
   "cell_type": "code",
   "execution_count": 441,
   "metadata": {},
   "outputs": [
    {
     "name": "stdout",
     "output_type": "stream",
     "text": [
      "Unregularized model MAPE:  47.25922880164779\n",
      "Regularized model MAPE:  44.907027380295254\n",
      "Dropout model MAPE:  59.584988633509454\n"
     ]
    }
   ],
   "source": [
    "print(\"Unregularized model MAPE: \",get_mape(y_pred_actual, y_test))\n",
    "print(\"Regularized model MAPE: \",get_mape(y_pred2_actual, y_test))\n",
    "print(\"Dropout model MAPE: \",get_mape(y_pred3_actual, y_test))\n"
   ]
  },
  {
   "cell_type": "markdown",
   "metadata": {},
   "source": [
    "The MAPE for these neural networks are ten times higher than the MAPE that was derived from the ARIMA models. The ARIMA(2,1,2)(1,0,1) model scored a MAPE of 4.05, which is significantly lower than any of the MAPE derived from the neural network models. With that being said, the model with the recurrent regularizer scored the lowest MAPE of about 45, although the unregularized model performs very similarly. Due to the stochastic nature of neural network, furthur statistical investigation needs to be made to declare the best performing model."
   ]
  },
  {
   "cell_type": "markdown",
   "metadata": {},
   "source": [
    "# Significance Testing for Model Selection"
   ]
  },
  {
   "cell_type": "markdown",
   "metadata": {},
   "source": [
    "I will conduct a paired t test to determine whether the unregularized or the regularized model generalizes more to unseen data. To do so, I will train each model 500 times and compute their mean absolute percentage errors each time. I chose to take the more time consuming path of training models on the full dataset many times rather than using cross-validation to quickly compute MAPES because I believe that a paired t test is appropriate to determine the superior model. Cross-validation violates one of the assumptions for t test, which is that the observations, which are the MAPES in this case, are independent. Because some folds are left out for cross-validation when computing scores, the observations are dependent. In cross-validation, the scores are dependent on which folds were used to train and to test. Because the training set is small, I am able to do train the model with full training set many times instead, circumventing the violation the assumption."
   ]
  },
  {
   "cell_type": "code",
   "execution_count": null,
   "metadata": {},
   "outputs": [],
   "source": [
    "# Train and find MAPE of unregularized model 500 times \n",
    "for i in range(500):\n",
    "    model = keras.models.Sequential([\n",
    "        keras.layers.LSTM(20, return_sequences = True, input_shape = (19,1)),\n",
    "        keras.layers.LSTM(20, return_sequences = True),\n",
    "        keras.layers.LSTM(20),\n",
    "        keras.layers.Dense(12)\n",
    "    ])\n",
    "\n",
    "    model.compile(loss=\"mse\", optimizer=\"adam\")\n",
    "    history = model.fit(X_train, y_train, epochs=30, validation_data=(X_val, y_val), verbose = 0)\n",
    "    y_pred = model.predict(X_val,verbose = 0)\n",
    "    y_pred_actual = y_scale.inverse_transform(y_pred)\n",
    "    mape = get_mape(y_pred_actual, y_test)\n",
    "    mapes.append(mape)"
   ]
  },
  {
   "cell_type": "code",
   "execution_count": 478,
   "metadata": {},
   "outputs": [
    {
     "data": {
      "text/plain": [
       "500"
      ]
     },
     "execution_count": 478,
     "metadata": {},
     "output_type": "execute_result"
    }
   ],
   "source": [
    "# Confirm 500 instances\n",
    "len(mapes)"
   ]
  },
  {
   "cell_type": "code",
   "execution_count": 534,
   "metadata": {},
   "outputs": [
    {
     "data": {
      "image/png": "[encoded data removed]",
      "text/plain": [
       "<Figure size 432x288 with 1 Axes>"
      ]
     },
     "metadata": {
      "needs_background": "light"
     },
     "output_type": "display_data"
    }
   ],
   "source": [
    "# Central limit theorem estimating a normal distribution of scores\n",
    "plt.hist(mapes)\n",
    "plt.title(\"Distribution of MAPE for Unregularized Model\")\n",
    "plt.xlabel(\"MAPE\")\n",
    "plt.ylabel(\"Counts\")\n",
    "plt.show()"
   ]
  },
  {
   "cell_type": "code",
   "execution_count": null,
   "metadata": {},
   "outputs": [],
   "source": [
    "# Train and find MAPE of regularized model 500 times \n",
    "mapes2 = []\n",
    "for i in range(500):\n",
    "    model2 = keras.models.Sequential([\n",
    "        keras.layers.LSTM(20, return_sequences = True, input_shape = (19,1), recurrent_regularizer=keras.regularizers.l1_l2(l1=0.01, l2=0.01)),\n",
    "        keras.layers.LSTM(20, return_sequences = True),\n",
    "        keras.layers.LSTM(20),\n",
    "        keras.layers.Dense(12)\n",
    "    ])\n",
    "\n",
    "    model2.compile(loss=\"mse\", optimizer=\"adam\")\n",
    "    history = model2.fit(X_train, y_train, epochs=30, validation_data=(X_val, y_val), verbose = 0)\n",
    "    y_pred2 = model2.predict(X_val, verbose = 0)\n",
    "    y_pred_actual2 = y_scale.inverse_transform(y_pred2)\n",
    "    mape2 = get_mape(y_pred_actual2, y_test)\n",
    "    mapes2.append(mape2)"
   ]
  },
  {
   "cell_type": "code",
   "execution_count": 535,
   "metadata": {},
   "outputs": [
    {
     "data": {
      "image/png": "[encoded data removed]",
      "text/plain": [
       "<Figure size 432x288 with 1 Axes>"
      ]
     },
     "metadata": {
      "needs_background": "light"
     },
     "output_type": "display_data"
    }
   ],
   "source": [
    "# Central limit theorem estimating a normal distribution of scores\n",
    "plt.hist(mapes2)\n",
    "plt.title(\"Distribution of MAPE for Regularized Model\")\n",
    "plt.xlabel(\"MAPE\")\n",
    "plt.ylabel(\"Counts\")\n",
    "plt.show()"
   ]
  },
  {
   "cell_type": "code",
   "execution_count": 495,
   "metadata": {},
   "outputs": [],
   "source": [
    "# Saving data for future use\n",
    "two_mapes = pd.DataFrame(zip(mapes, mapes2), columns = [\"Non-reg-mape\", \"reg-mape\"])\n",
    "two_mapes.to_csv(r\"C:\\Users\\taked\\Desktop\\DataScience Projects\\Non-Kaggle Datasets\\Time Series Project\\mapes.csv\")"
   ]
  },
  {
   "cell_type": "markdown",
   "metadata": {},
   "source": [
    "Now I will conduct a paired t-test. If the p-value of the test is less than 5%, then that means the underlying distributions of true MAPE scores for the two models are different."
   ]
  },
  {
   "cell_type": "code",
   "execution_count": 500,
   "metadata": {},
   "outputs": [
    {
     "data": {
      "text/html": [
       "<div>\n",
       "<style scoped>\n",
       "    .dataframe tbody tr th:only-of-type {\n",
       "        vertical-align: middle;\n",
       "    }\n",
       "\n",
       "    .dataframe tbody tr th {\n",
       "        vertical-align: top;\n",
       "    }\n",
       "\n",
       "    .dataframe thead th {\n",
       "        text-align: right;\n",
       "    }\n",
       "</style>\n",
       "<table border=\"1\" class=\"dataframe\">\n",
       "  <thead>\n",
       "    <tr style=\"text-align: right;\">\n",
       "      <th></th>\n",
       "      <th>count</th>\n",
       "      <th>mean</th>\n",
       "      <th>std</th>\n",
       "      <th>min</th>\n",
       "      <th>25%</th>\n",
       "      <th>50%</th>\n",
       "      <th>75%</th>\n",
       "      <th>max</th>\n",
       "    </tr>\n",
       "  </thead>\n",
       "  <tbody>\n",
       "    <tr>\n",
       "      <th>Non-reg-mape</th>\n",
       "      <td>500.0</td>\n",
       "      <td>48.738345</td>\n",
       "      <td>3.762731</td>\n",
       "      <td>39.312319</td>\n",
       "      <td>46.011833</td>\n",
       "      <td>48.836375</td>\n",
       "      <td>51.230085</td>\n",
       "      <td>60.836722</td>\n",
       "    </tr>\n",
       "    <tr>\n",
       "      <th>reg-mape</th>\n",
       "      <td>500.0</td>\n",
       "      <td>48.960704</td>\n",
       "      <td>4.055817</td>\n",
       "      <td>38.331660</td>\n",
       "      <td>46.203191</td>\n",
       "      <td>48.847163</td>\n",
       "      <td>51.614209</td>\n",
       "      <td>61.785395</td>\n",
       "    </tr>\n",
       "  </tbody>\n",
       "</table>\n",
       "</div>"
      ],
      "text/plain": [
       "              count       mean       std        min        25%        50%  \\\n",
       "Non-reg-mape  500.0  48.738345  3.762731  39.312319  46.011833  48.836375   \n",
       "reg-mape      500.0  48.960704  4.055817  38.331660  46.203191  48.847163   \n",
       "\n",
       "                    75%        max  \n",
       "Non-reg-mape  51.230085  60.836722  \n",
       "reg-mape      51.614209  61.785395  "
      ]
     },
     "execution_count": 500,
     "metadata": {},
     "output_type": "execute_result"
    }
   ],
   "source": [
    "two_mapes.describe().T"
   ]
  },
  {
   "cell_type": "code",
   "execution_count": 499,
   "metadata": {},
   "outputs": [
    {
     "name": "stdout",
     "output_type": "stream",
     "text": [
      "Statistic: -0.901, p-value: 0.368\n",
      "Fail to reject the null hypothesis; there is no difference in means between the two scores.\n"
     ]
    }
   ],
   "source": [
    "# Run two sample paired t test\n",
    "\n",
    "from scipy.stats import ttest_rel\n",
    "\n",
    "test_stat, p = ttest_rel(mapes, mapes2)\n",
    "print(\"Statistic: %.3f, p-value: %.3f\" % (test_stat, p))\n",
    "if p >= 0.05:\n",
    "    print(\"Fail to reject the null hypothesis; there is no difference in means between the two scores.\")\n",
    "else:\n",
    "    print(\"Reject. Different dists\")"
   ]
  },
  {
   "cell_type": "markdown",
   "metadata": {},
   "source": [
    "We can now conclude that there is no statistically significant difference in the average MAPE derived from the two models. \n",
    "<br>\n",
    "<br>\n",
    "\n",
    "Occam's razor suggests that simpler models shall be favored if the models have the same predictive capabilities. Hence, if I had to choose out of the deep learning models, I will choose the regularized model for deployment. However, keep in mind that our ARIMA model forecasted with much less MAPE and is more simple compared to deep learning models. Therefore, if I were to bring a model to production, I will choose the ARIMA model that was constructed in part one of this project."
   ]
  },
  {
   "cell_type": "markdown",
   "metadata": {},
   "source": [
    "# Conclusion"
   ]
  },
  {
   "cell_type": "markdown",
   "metadata": {},
   "source": [
    "The best neural network models investigated with this project had an average mean absolute percentage error of about 49, resulting in a very underwhelming performance. As the No free lunch theorem suggests, using the most complicated models do not necessarily lead to the best results. This exercise proved the importance of understanding the different circumstances to use different models. LSTM models are by no means a high bias model. Rather, it is a very complicated model, and diagrams can often look esoteric. The complexity comes from the fact that it trains four different neural networks per LSTM cell. The main pitfall of using the model for this dataset is due to the lack of sample size. The model complexity led to a severe case of overfitting which led to suboptimal generalizaiton. The remedy for overfitting is regularization and more importantly for this case, acquiring more training data, which is not possible. Aside from tackling the overfitting issue, the model could have also been improved by trying different hyperparameters, such as learning rates, as well as trying different optimizers. However, I decided that my efforts to improve the deep learning model should be used on a different project, when the use of such models are more suited. Instead of creating the best forecasting deep learning model, the goal of this project was to explore deep learning methods for time series, and I was able to learn in depth about recurrent neural networks along the way. Therefore, I consider my efforts a success and will conclude my analysis of this dataset at this point. Though this specific problem did not warrant the use for a neural network, I see a great potential in using recurrent neural network for larger time series datasets, and I am excited to read academic papers that put these algorithms into use. \n",
    "<br>\n",
    "<br>\n",
    "For future projects, I would like to investigate the use of Transformers and other attention-based algorithms on larger time series datasets. I would also like to explore different hyperparameter tuning techniques for deep learning. "
   ]
  }
 ],
 "metadata": {
  "kernelspec": {
   "display_name": "Python 3",
   "language": "python",
   "name": "python3"
  },
  "language_info": {
   "codemirror_mode": {
    "name": "ipython",
    "version": 3
   },
   "file_extension": ".py",
   "mimetype": "text/x-python",
   "name": "python",
   "nbconvert_exporter": "python",
   "pygments_lexer": "ipython3",
   "version": "3.7.6"
  }
 },
 "nbformat": 4,
 "nbformat_minor": 4
}
